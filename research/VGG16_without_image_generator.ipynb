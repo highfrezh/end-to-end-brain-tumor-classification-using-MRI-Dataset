{
 "cells": [
  {
   "cell_type": "code",
   "execution_count": null,
   "metadata": {
    "colab": {
     "base_uri": "https://localhost:8080/",
     "height": 122
    },
    "id": "QmFRr0wggyF3",
    "outputId": "5d77558d-9e37-41cd-bd91-546de82a3392"
   },
   "outputs": [
    {
     "name": "stderr",
     "output_type": "stream",
     "text": [
      "Downloading...\n",
      "From (original): https://drive.google.com/uc?id=1bV7SN4v2KaX5IN3w6LbVMazs_ooeFfST&export=download\n",
      "From (redirected): https://drive.google.com/uc?id=1bV7SN4v2KaX5IN3w6LbVMazs_ooeFfST&export=download&confirm=t&uuid=af4cf307-ec1d-47bd-8759-a325be40d548\n",
      "To: /content/dataset.zip\n",
      "100%|██████████| 156M/156M [00:04<00:00, 37.3MB/s]\n"
     ]
    },
    {
     "data": {
      "application/vnd.google.colaboratory.intrinsic+json": {
       "type": "string"
      },
      "text/plain": [
       "'dataset.zip'"
      ]
     },
     "execution_count": 1,
     "metadata": {},
     "output_type": "execute_result"
    }
   ],
   "source": [
    "import gdown\n",
    "\n",
    "url = \"https://drive.google.com/uc?id=1bV7SN4v2KaX5IN3w6LbVMazs_ooeFfST&export=download\"\n",
    "output = \"dataset.zip\"  # Replace with your desired file name\n",
    "gdown.download(url, output, quiet=False)"
   ]
  },
  {
   "cell_type": "code",
   "execution_count": null,
   "metadata": {
    "colab": {
     "base_uri": "https://localhost:8080/"
    },
    "id": "HBAY4VTpg72I",
    "outputId": "2583d114-bc24-4c50-c8a2-56c968b74dc0"
   },
   "outputs": [],
   "source": [
    "!unzip /content/dataset.zip"
   ]
  },
  {
   "cell_type": "markdown",
   "metadata": {
    "id": "RETEpdb-XGKL"
   },
   "source": [
    "Step 1: Import Required Libraries"
   ]
  },
  {
   "cell_type": "code",
   "execution_count": null,
   "metadata": {
    "id": "q2d8z1RNE4B_"
   },
   "outputs": [],
   "source": [
    "import os\n",
    "import cv2\n",
    "import numpy as np\n",
    "import tensorflow as tf\n",
    "from tensorflow.keras.utils import to_categorical\n",
    "from tensorflow.keras.applications.vgg16 import VGG16, preprocess_input\n",
    "from tensorflow.keras.models import Sequential\n",
    "from tensorflow.keras.layers import Dense, Flatten, Dropout\n",
    "from sklearn.model_selection import train_test_split\n",
    "import matplotlib.pyplot as plt"
   ]
  },
  {
   "cell_type": "markdown",
   "metadata": {
    "id": "WCf871JoXV51"
   },
   "source": [
    "Step 2: Data Preprocessing Function"
   ]
  },
  {
   "cell_type": "code",
   "execution_count": null,
   "metadata": {
    "id": "w8R4Dg9VE9sq"
   },
   "outputs": [],
   "source": [
    "def load_and_preprocess_data(training_path, testing_path, labels, image_size=224):\n",
    "    X = []\n",
    "    Y = []\n",
    "\n",
    "    # Load training data\n",
    "    for label in labels:\n",
    "        folder_path = os.path.join(training_path, label)\n",
    "        for img_name in os.listdir(folder_path):\n",
    "            img = cv2.imread(os.path.join(folder_path, img_name))\n",
    "            img = cv2.resize(img, (image_size, image_size))\n",
    "            X.append(img)\n",
    "            Y.append(labels.index(label))  # Map label to numeric value\n",
    "\n",
    "    # Load testing data\n",
    "    for label in labels:\n",
    "        folder_path = os.path.join(testing_path, label)\n",
    "        for img_name in os.listdir(folder_path):\n",
    "            img = cv2.imread(os.path.join(folder_path, img_name))\n",
    "            img = cv2.resize(img, (image_size, image_size))\n",
    "            X.append(img)\n",
    "            Y.append(labels.index(label))  # Map label to numeric value\n",
    "\n",
    "    # Convert to NumPy arrays\n",
    "    X = np.array(X)\n",
    "    Y = np.array(Y)\n",
    "\n",
    "    # Normalize pixel values\n",
    "    X = preprocess_input(X)  # Preprocess using VGG16's preprocessing\n",
    "\n",
    "    return X, Y"
   ]
  },
  {
   "cell_type": "markdown",
   "metadata": {
    "id": "cnn67WziXk6t"
   },
   "source": [
    "Step 3: Prepare Data"
   ]
  },
  {
   "cell_type": "code",
   "execution_count": null,
   "metadata": {
    "id": "knNb0YBGF-NT"
   },
   "outputs": [],
   "source": [
    "def prepare_data(training_path, testing_path, labels, image_size=224, test_size=0.2):\n",
    "    X, Y = load_and_preprocess_data(training_path, testing_path, labels, image_size)\n",
    "\n",
    "    # Split the dataset into training and validation sets\n",
    "    X_train, X_val, Y_train, Y_val = train_test_split(X, Y, test_size=test_size, random_state=42)\n",
    "\n",
    "    # One-hot encode the labels\n",
    "    num_classes = len(labels)\n",
    "    Y_train = to_categorical(Y_train, num_classes=num_classes)\n",
    "    Y_val = to_categorical(Y_val, num_classes=num_classes)\n",
    "\n",
    "    return X_train, X_val, Y_train, Y_val, num_classes"
   ]
  },
  {
   "cell_type": "markdown",
   "metadata": {
    "id": "o6N9wytcX2aL"
   },
   "source": [
    "Step 4: Build the Model"
   ]
  },
  {
   "cell_type": "code",
   "execution_count": null,
   "metadata": {
    "id": "fSnsdM6ZGG99"
   },
   "outputs": [],
   "source": [
    "def build_vgg16_model(input_shape, num_classes):\n",
    "    # Load the VGG16 model without the top layer\n",
    "    base_model = VGG16(weights='imagenet', include_top=False, input_shape=input_shape)\n",
    "\n",
    "    # Build the custom model\n",
    "    model = Sequential([\n",
    "        base_model,\n",
    "        Flatten(),\n",
    "        Dense(256, activation='relu'),\n",
    "        Dropout(0.5),\n",
    "        Dense(num_classes, activation='softmax')  # Output layer\n",
    "    ])\n",
    "\n",
    "    # Freeze the base model layers\n",
    "    for layer in base_model.layers:\n",
    "        layer.trainable = False\n",
    "\n",
    "    # Compile the model\n",
    "    model.compile(optimizer='adam', loss='categorical_crossentropy', metrics=['accuracy'])\n",
    "\n",
    "    return model"
   ]
  },
  {
   "cell_type": "markdown",
   "metadata": {
    "id": "VrVmLLUSYECw"
   },
   "source": [
    "Step 5: Train the Model"
   ]
  },
  {
   "cell_type": "code",
   "execution_count": null,
   "metadata": {
    "id": "-utrnk3RGLwI"
   },
   "outputs": [],
   "source": [
    "def train_model(model, X_train, Y_train, X_val, Y_val, epochs=10, batch_size=32):\n",
    "    history = model.fit(\n",
    "        X_train, Y_train,\n",
    "        validation_data=(X_val, Y_val),\n",
    "        epochs=epochs,\n",
    "        batch_size=batch_size\n",
    "    )\n",
    "    return model, history\n"
   ]
  },
  {
   "cell_type": "markdown",
   "metadata": {
    "id": "66MOiuCeYM2R"
   },
   "source": [
    "Step 6: Evaluate the Model"
   ]
  },
  {
   "cell_type": "code",
   "execution_count": null,
   "metadata": {
    "id": "aOuGMfTsGQR1"
   },
   "outputs": [],
   "source": [
    "def evaluate_model(model, X_val, Y_val):\n",
    "    loss, accuracy = model.evaluate(X_val, Y_val)\n",
    "    print(f\"Validation Loss: {loss}, Validation Accuracy: {accuracy}\")\n",
    "    return loss, accuracy\n"
   ]
  },
  {
   "cell_type": "markdown",
   "metadata": {
    "id": "5T9oMiksYW0e"
   },
   "source": [
    "Step 7: Plot Training History"
   ]
  },
  {
   "cell_type": "code",
   "execution_count": null,
   "metadata": {
    "id": "BmRGFQknGUwa"
   },
   "outputs": [],
   "source": [
    "def plot_training_history(history):\n",
    "    # Plot accuracy\n",
    "    plt.figure(figsize=(12, 4))\n",
    "    plt.subplot(1, 2, 1)\n",
    "    plt.plot(history.history['accuracy'], label='Train Accuracy')\n",
    "    plt.plot(history.history['val_accuracy'], label='Validation Accuracy')\n",
    "    plt.title('Accuracy Over Epochs')\n",
    "    plt.xlabel('Epochs')\n",
    "    plt.ylabel('Accuracy')\n",
    "    plt.legend()\n",
    "\n",
    "    # Plot loss\n",
    "    plt.subplot(1, 2, 2)\n",
    "    plt.plot(history.history['loss'], label='Train Loss')\n",
    "    plt.plot(history.history['val_loss'], label='Validation Loss')\n",
    "    plt.title('Loss Over Epochs')\n",
    "    plt.xlabel('Epochs')\n",
    "    plt.ylabel('Loss')\n",
    "    plt.legend()\n",
    "\n",
    "    plt.show()"
   ]
  },
  {
   "cell_type": "markdown",
   "metadata": {
    "id": "kv0vmv5BYkO-"
   },
   "source": [
    "Step 8: Main Pipeline"
   ]
  },
  {
   "cell_type": "code",
   "execution_count": null,
   "metadata": {
    "colab": {
     "base_uri": "https://localhost:8080/",
     "height": 827
    },
    "id": "WR-D3orGIu-j",
    "outputId": "10a24133-d29e-43a3-a6eb-3f5e27970585"
   },
   "outputs": [
    {
     "name": "stdout",
     "output_type": "stream",
     "text": [
      "Downloading data from https://storage.googleapis.com/tensorflow/keras-applications/vgg16/vgg16_weights_tf_dim_ordering_tf_kernels_notop.h5\n",
      "\u001b[1m58889256/58889256\u001b[0m \u001b[32m━━━━━━━━━━━━━━━━━━━━\u001b[0m\u001b[37m\u001b[0m \u001b[1m0s\u001b[0m 0us/step\n",
      "Epoch 1/10\n",
      "\u001b[1m176/176\u001b[0m \u001b[32m━━━━━━━━━━━━━━━━━━━━\u001b[0m\u001b[37m\u001b[0m \u001b[1m53s\u001b[0m 235ms/step - accuracy: 0.7273 - loss: 4.8846 - val_accuracy: 0.8769 - val_loss: 0.3610\n",
      "Epoch 2/10\n",
      "\u001b[1m176/176\u001b[0m \u001b[32m━━━━━━━━━━━━━━━━━━━━\u001b[0m\u001b[37m\u001b[0m \u001b[1m15s\u001b[0m 84ms/step - accuracy: 0.8717 - loss: 0.3861 - val_accuracy: 0.9103 - val_loss: 0.2788\n",
      "Epoch 3/10\n",
      "\u001b[1m176/176\u001b[0m \u001b[32m━━━━━━━━━━━━━━━━━━━━\u001b[0m\u001b[37m\u001b[0m \u001b[1m21s\u001b[0m 86ms/step - accuracy: 0.8914 - loss: 0.3225 - val_accuracy: 0.9068 - val_loss: 0.3077\n",
      "Epoch 4/10\n",
      "\u001b[1m176/176\u001b[0m \u001b[32m━━━━━━━━━━━━━━━━━━━━\u001b[0m\u001b[37m\u001b[0m \u001b[1m23s\u001b[0m 99ms/step - accuracy: 0.9023 - loss: 0.2985 - val_accuracy: 0.9174 - val_loss: 0.2545\n",
      "Epoch 5/10\n",
      "\u001b[1m176/176\u001b[0m \u001b[32m━━━━━━━━━━━━━━━━━━━━\u001b[0m\u001b[37m\u001b[0m \u001b[1m15s\u001b[0m 87ms/step - accuracy: 0.9037 - loss: 0.2646 - val_accuracy: 0.9267 - val_loss: 0.2165\n",
      "Epoch 6/10\n",
      "\u001b[1m176/176\u001b[0m \u001b[32m━━━━━━━━━━━━━━━━━━━━\u001b[0m\u001b[37m\u001b[0m \u001b[1m22s\u001b[0m 98ms/step - accuracy: 0.9233 - loss: 0.2186 - val_accuracy: 0.9310 - val_loss: 0.2189\n",
      "Epoch 7/10\n",
      "\u001b[1m176/176\u001b[0m \u001b[32m━━━━━━━━━━━━━━━━━━━━\u001b[0m\u001b[37m\u001b[0m \u001b[1m18s\u001b[0m 85ms/step - accuracy: 0.9406 - loss: 0.1815 - val_accuracy: 0.9238 - val_loss: 0.2535\n",
      "Epoch 8/10\n",
      "\u001b[1m176/176\u001b[0m \u001b[32m━━━━━━━━━━━━━━━━━━━━\u001b[0m\u001b[37m\u001b[0m \u001b[1m17s\u001b[0m 99ms/step - accuracy: 0.9336 - loss: 0.1844 - val_accuracy: 0.9438 - val_loss: 0.1808\n",
      "Epoch 9/10\n",
      "\u001b[1m176/176\u001b[0m \u001b[32m━━━━━━━━━━━━━━━━━━━━\u001b[0m\u001b[37m\u001b[0m \u001b[1m17s\u001b[0m 99ms/step - accuracy: 0.9444 - loss: 0.1635 - val_accuracy: 0.9367 - val_loss: 0.1847\n",
      "Epoch 10/10\n",
      "\u001b[1m176/176\u001b[0m \u001b[32m━━━━━━━━━━━━━━━━━━━━\u001b[0m\u001b[37m\u001b[0m \u001b[1m15s\u001b[0m 86ms/step - accuracy: 0.9450 - loss: 0.1546 - val_accuracy: 0.9352 - val_loss: 0.2595\n",
      "\u001b[1m44/44\u001b[0m \u001b[32m━━━━━━━━━━━━━━━━━━━━\u001b[0m\u001b[37m\u001b[0m \u001b[1m3s\u001b[0m 67ms/step - accuracy: 0.9265 - loss: 0.2487\n",
      "Validation Loss: 0.25953957438468933, Validation Accuracy: 0.9352313280105591\n"
     ]
    },
    {
     "data": {
      "image/png": "[encoded data removed]",
      "text/plain": [
       "<Figure size 1200x400 with 2 Axes>"
      ]
     },
     "metadata": {},
     "output_type": "display_data"
    }
   ],
   "source": [
    "if __name__ == \"__main__\":\n",
    "    # Define paths and labels\n",
    "    training_path = \"/content/Training\"\n",
    "    testing_path = \"/content/Testing\"\n",
    "    labels = ['glioma', 'meningioma', 'notumor', 'pituitary']\n",
    "    image_size = 150\n",
    "\n",
    "    # Prepare data\n",
    "    X_train, X_val, Y_train, Y_val, num_classes = prepare_data(training_path, testing_path, labels, image_size)\n",
    "\n",
    "    # Build the model\n",
    "    input_shape = (image_size, image_size, 3)\n",
    "    model = build_vgg16_model(input_shape, num_classes)\n",
    "\n",
    "    # Train the model\n",
    "    model, history = train_model(model, X_train, Y_train, X_val, Y_val, epochs=10, batch_size=32)\n",
    "\n",
    "    # Evaluate the model\n",
    "    evaluate_model(model, X_val, Y_val)\n",
    "\n",
    "    # Plot training history\n",
    "    plot_training_history(history)\n"
   ]
  },
  {
   "cell_type": "code",
   "execution_count": 56,
   "metadata": {
    "colab": {
     "base_uri": "https://localhost:8080/"
    },
    "id": "JccWsao5Y-og",
    "outputId": "9408255e-4624-4fb9-faa5-9a820906e59b"
   },
   "outputs": [
    {
     "name": "stderr",
     "output_type": "stream",
     "text": [
      "WARNING:absl:You are saving your model as an HDF5 file via `model.save()` or `keras.saving.save_model(model)`. This file format is considered legacy. We recommend using instead the native Keras format, e.g. `model.save('my_model.keras')` or `keras.saving.save_model(model, 'my_model.keras')`. \n"
     ]
    }
   ],
   "source": [
    "model.save('braintumor_vgg.h5')"
   ]
  }
 ],
 "metadata": {
  "accelerator": "GPU",
  "colab": {
   "gpuType": "T4",
   "provenance": []
  },
  "kernelspec": {
   "display_name": "Python 3",
   "name": "python3"
  },
  "language_info": {
   "name": "python"
  }
 },
 "nbformat": 4,
 "nbformat_minor": 0
}
